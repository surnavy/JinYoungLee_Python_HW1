{
  "nbformat": 4,
  "nbformat_minor": 0,
  "metadata": {
    "colab": {
      "provenance": [],
      "authorship_tag": "ABX9TyNdayDl/w6hdkHz36WVcxeX",
      "include_colab_link": true
    },
    "kernelspec": {
      "name": "python3",
      "display_name": "Python 3"
    },
    "language_info": {
      "name": "python"
    }
  },
  "cells": [
    {
      "cell_type": "markdown",
      "metadata": {
        "id": "view-in-github",
        "colab_type": "text"
      },
      "source": [
        "<a href=\"https://colab.research.google.com/github/surnavy/JinYoungLee_Python_HW1/blob/master/Untitled1.ipynb\" target=\"_parent\"><img src=\"https://colab.research.google.com/assets/colab-badge.svg\" alt=\"Open In Colab\"/></a>"
      ]
    },
    {
      "cell_type": "markdown",
      "source": [],
      "metadata": {
        "id": "WBgHPXdf3MDj"
      }
    },
    {
      "cell_type": "code",
      "execution_count": 12,
      "metadata": {
        "colab": {
          "base_uri": "https://localhost:8080/"
        },
        "id": "DOXGQ6fUuNrf",
        "outputId": "684900b4-0694-43a1-d49f-5bec3736dfb3"
      },
      "outputs": [
        {
          "output_type": "stream",
          "name": "stdout",
          "text": [
            "[[5.1 3.5 1.4 0.2]\n",
            " [4.9 3.  1.4 0.2]\n",
            " [4.7 3.2 1.3 0.2]\n",
            " [4.6 3.1 1.5 0.2]\n",
            " [5.  3.6 1.4 0.2]\n",
            " [5.4 3.9 1.7 0.4]\n",
            " [4.6 3.4 1.4 0.3]\n",
            " [5.  3.4 1.5 0.2]] \n",
            "\n",
            "\n",
            "[4.9125 3.3875 1.45   0.2375] \n",
            "\n",
            "\n",
            "[2.55  2.375 2.35  2.35  2.55  2.85  2.425 2.525] \n",
            "\n",
            "\n",
            "[[0.06609375 0.05265625 0.018125   0.00828125]\n",
            " [0.05265625 0.07359375 0.018125   0.01296875]\n",
            " [0.018125   0.018125   0.0125     0.005625  ]\n",
            " [0.00828125 0.01296875 0.005625   0.00484375]]\n"
          ]
        }
      ],
      "source": [
        "import numpy as np\n",
        "\n",
        "x = np.array([[5.1, 3.5, 1.4, 0.2], [4.9, 3.0, 1.4, 0.2],\n",
        "              [4.7, 3.2, 1.3, 0.2], [4.6, 3.1, 1.5, 0.2], [5.0, 3.6, 1.4, 0.2],\n",
        "              [5.4, 3.9, 1.7, 0.4], [4.6, 3.4, 1.4, 0.3], [5.0, 3.4, 1.5, 0.2]])\n",
        "print(x, '\\n\\n')\n",
        "\n",
        "x_mean = x.mean(axis = 0)\n",
        "print(x_mean, '\\n\\n')\n",
        "\n",
        "x_mean2 = x.mean(axis = 1) ##행 -> 열\n",
        "print(x_mean2, '\\n\\n')\n",
        "\n",
        "x_var = np.cov(x.T, ddof = 0)\n",
        "print(x_var)"
      ]
    },
    {
      "cell_type": "code",
      "source": [],
      "metadata": {
        "id": "cKXWvT762j0y"
      },
      "execution_count": null,
      "outputs": []
    }
  ]
}